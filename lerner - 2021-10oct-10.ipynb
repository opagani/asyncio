{
 "cells": [
  {
   "cell_type": "markdown",
   "metadata": {},
   "source": [
    "# Agenda -- asyncio\n",
    "\n",
    "1. `asyncio` basics -- what is it?\n",
    "2. Basic use of `asyncio`\n",
    "3. Scheduling and waiting\n",
    "4. Deeper with the event loop\n",
    "5. What if there's no coroutine?  What then?\n",
    "6. Example: HTTP client\n",
    "7. Example: Chatbot\n",
    "8. `asyncio` vs. threads"
   ]
  },
  {
   "cell_type": "markdown",
   "metadata": {},
   "source": [
    "# Why do we need asyncio?"
   ]
  },
  {
   "cell_type": "markdown",
   "metadata": {},
   "source": [
    "# Reactor pattern\n",
    "\n",
    "The problem with current concurrency is:\n",
    "- Threads are lightweight, but hard to work with... and even lightweight threads can overburden a server at a certain point.\n",
    "- Processes are easier to work with, and you can even have a lot of them on a server, but they are very heavyweight, and can bring your server down.\n",
    "\n",
    "The reactor pattern says:\n",
    "- Have one process\n",
    "- Have one thread\n",
    "\n",
    "The idea is: You have a list of functions, and you loop over that list again and again and again. You give each function the chance to execute for a little bit of time.  This way, you can handle a ton of incoming network connections, because the only overhead is additional functions.\n",
    "\n",
    "Each time we get a new network connection, we run a function a new time. If there are *n* incoming connections, then we're running our function *n* times.  Because the overhead of a function is so much lower than threads or processes, we can get away with this.\n",
    "\n",
    "The \"Twisted\" framework in Python has existed for 20+ years, and has used this technique.\n",
    "\n",
    "JavaScript's NodeJS framework for server-side Web apps has been doing this 10-15 years already.\n",
    "\n",
    "`asyncio` is still something of a work in progress.\n",
    "- The API is stable, with fewer changes with each Python version\n",
    "- A growing number of libraries support it\n",
    "- A growing number of people are using it\n",
    "\n",
    "BUT it is still:\n",
    "- Hard to understand\n",
    "- Hard to integrate with much existing software\n",
    "- A lot of the documentation is still unclear"
   ]
  },
  {
   "cell_type": "markdown",
   "metadata": {},
   "source": [
    "# What kinds of problems does `asyncio` solve?\n",
    "\n",
    "Network applications are mostly idle.\n",
    "- When we want to request something from the network (as a client), we wait until we get a response. When we're runn\n",
    "- Wh"
   ]
  }
 ],
 "metadata": {
  "kernelspec": {
   "display_name": "Python 3 (ipykernel)",
   "language": "python",
   "name": "python3"
  },
  "language_info": {
   "codemirror_mode": {
    "name": "ipython",
    "version": 3
   },
   "file_extension": ".py",
   "mimetype": "text/x-python",
   "name": "python",
   "nbconvert_exporter": "python",
   "pygments_lexer": "ipython3",
   "version": "3.10.0"
  }
 },
 "nbformat": 4,
 "nbformat_minor": 4
}
