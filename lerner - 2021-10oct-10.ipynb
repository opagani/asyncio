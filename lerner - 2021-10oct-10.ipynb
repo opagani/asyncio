{
 "cells": [
  {
   "cell_type": "markdown",
   "metadata": {},
   "source": [
    "# Agenda -- asyncio\n",
    "\n",
    "1. `asyncio` basics -- what is it?\n",
    "2. Basic use of `asyncio`\n",
    "3. Scheduling and waiting\n",
    "4. Deeper with the event loop\n",
    "5. What if there's no coroutine?  What then?\n",
    "6. Example: HTTP client\n",
    "7. Example: Chatbot\n",
    "8. `asyncio` vs. threads"
   ]
  },
  {
   "cell_type": "markdown",
   "metadata": {},
   "source": [
    "# Why do we need asyncio?"
   ]
  },
  {
   "cell_type": "markdown",
   "metadata": {},
   "source": [
    "# Reactor pattern\n",
    "\n",
    "The problem with current concurrency is:\n",
    "- Threads are lightweight, but hard to work with... and even lightweight threads can overburden a server at a certain point.\n",
    "- Processes are easier to work with, and you can even have a lot of them on a server, but they are very heavyweight, and can bring your server down.\n",
    "\n",
    "The reactor pattern says:\n",
    "- Have one process\n",
    "- Have one thread\n",
    "\n",
    "The idea is: You have a list of functions, and you loop over that list again and again and again. You give each function the chance to execute for a little bit of time.  This way, you can handle a ton of incoming network connections, because the only overhead is additional functions.\n",
    "\n",
    "Each time we get a new network connection, we run a function a new time. If there are *n* incoming connections, then we're running our function *n* times.  Because the overhead of a function is so much lower than threads or processes, we can get away with this.\n",
    "\n",
    "The \"Twisted\" framework in Python has existed for 20+ years, and has used this technique.\n",
    "\n",
    "JavaScript's NodeJS framework for server-side Web apps has been doing this 10-15 years already.\n",
    "\n",
    "`asyncio` is still something of a work in progress.\n",
    "- The API is stable, with fewer changes with each Python version\n",
    "- A growing number of libraries support it\n",
    "- A growing number of people are using it\n",
    "\n",
    "BUT it is still:\n",
    "- Hard to understand\n",
    "- Hard to integrate with much existing software\n",
    "- A lot of the documentation is still unclear"
   ]
  },
  {
   "cell_type": "markdown",
   "metadata": {},
   "source": [
    "# What kinds of problems does `asyncio` solve?\n",
    "\n",
    "Network applications are mostly idle.\n",
    "- When we want to request something from the network (as a client), we wait until we get a response. When we're runn\n",
    "- When we are running a server, much of the time is idle, while the client either sends a request or processes it.\n",
    "\n",
    "There's a ton of idle time there!  That's where `asyncio` comes in.\n",
    "\n",
    "`asyncio` **DOES NOT PROMISE** that our code will run in parallel.  Each of our \"tasks\" will get a little bit of time to run, before it's expected to cede control back to the other tasks we're running.  But that's OK, because it'll cede control when it knows it'll have to wait a while before getting more communication.\n",
    "\n",
    "With `asyncio`, we know exactly when in a function's execution we might cede control to another task. By using local variables, we know that our task won't interfere with any other tasks.\n",
    "\n"
   ]
  },
  {
   "cell_type": "markdown",
   "metadata": {},
   "source": [
    "# Early `asyncio` was based on generators\n",
    "\n",
    "Behind the scenes, there are still some Python generators (and generator functions) hiding.  However, modern Python doesn't really use generators.\n",
    "\n",
    "That said, generators can really help us to understand what's happening in `asyncio`."
   ]
  },
  {
   "cell_type": "code",
   "execution_count": 1,
   "metadata": {},
   "outputs": [],
   "source": [
    "# dumbest function in the world\n",
    "\n",
    "def myfunc():\n",
    "    return 1\n",
    "    return 2\n",
    "    return 3"
   ]
  },
  {
   "cell_type": "code",
   "execution_count": 3,
   "metadata": {},
   "outputs": [
    {
     "data": {
      "text/plain": [
       "1"
      ]
     },
     "execution_count": 3,
     "metadata": {},
     "output_type": "execute_result"
    }
   ],
   "source": [
    "myfunc()  # we run it, and it gets to \"return 1\", returns 1, and that's the end!"
   ]
  },
  {
   "cell_type": "code",
   "execution_count": 4,
   "metadata": {},
   "outputs": [
    {
     "name": "stdout",
     "output_type": "stream",
     "text": [
      "  2           0 LOAD_CONST               1 (1)\n",
      "              2 RETURN_VALUE\n"
     ]
    }
   ],
   "source": [
    "import dis\n",
    "dis.dis(myfunc)"
   ]
  },
  {
   "cell_type": "code",
   "execution_count": 5,
   "metadata": {},
   "outputs": [],
   "source": [
    "# generator function\n",
    "\n",
    "def mygen():\n",
    "    yield 1\n",
    "    yield 2\n",
    "    yield 3\n",
    "    \n",
    "# yield means: give a value back and wait -- go to sleep    "
   ]
  },
  {
   "cell_type": "code",
   "execution_count": 7,
   "metadata": {},
   "outputs": [
    {
     "data": {
      "text/plain": [
       "<generator object mygen at 0x1110cd230>"
      ]
     },
     "execution_count": 7,
     "metadata": {},
     "output_type": "execute_result"
    }
   ],
   "source": [
    "# when you run a generator function, you get a generator object back\n",
    "# generator objects implement the iterator protocol\n",
    "\n",
    "mygen()"
   ]
  },
  {
   "cell_type": "code",
   "execution_count": 9,
   "metadata": {},
   "outputs": [
    {
     "name": "stdout",
     "output_type": "stream",
     "text": [
      "1\n",
      "2\n",
      "3\n"
     ]
    }
   ],
   "source": [
    "# each time we ask for the next element from the generator (i.e., mygen()),\n",
    "# the generator function runs up to and including the next \"yield\".  \"yield\"\n",
    "# tells the generator function to return a value, and go to sleep, remembering\n",
    "# where it was!\n",
    "\n",
    "for one_item in mygen():\n",
    "    print(one_item)"
   ]
  },
  {
   "cell_type": "code",
   "execution_count": 12,
   "metadata": {},
   "outputs": [
    {
     "name": "stdout",
     "output_type": "stream",
     "text": [
      "count_up_to: 0\n",
      "fib: 0\n",
      "squares: 0\n",
      "count_up_to: 1\n",
      "fib: 1\n",
      "squares: 1\n",
      "count_up_to: 2\n",
      "fib: 1\n",
      "squares: 4\n",
      "count_up_to: 3\n",
      "fib: 2\n",
      "squares: 9\n",
      "count_up_to: 4\n",
      "fib: 3\n",
      "squares: 16\n",
      "count_up_to: 5\n",
      "fib: 5\n",
      "squares: 25\n",
      "count_up_to: 6\n",
      "fib: 8\n",
      "squares: 36\n",
      "count_up_to: 7\n",
      "fib: 13\n",
      "squares: 49\n",
      "count_up_to: 8\n",
      "count_up_to: 9\n",
      "squares: 64\n",
      "squares: 81\n",
      "squares: 100\n"
     ]
    }
   ],
   "source": [
    "def count_up_to(maxnum):\n",
    "    for one_number in range(maxnum):\n",
    "        yield one_number\n",
    "        \n",
    "def fib(maxnum):\n",
    "    first = 0\n",
    "    second = 1\n",
    "    counter = 0\n",
    "    while True:\n",
    "        yield first\n",
    "        counter += 1\n",
    "        first, second = second, first+second\n",
    "        \n",
    "        if counter >= maxnum:\n",
    "            break\n",
    "            \n",
    "def squares(maxnum):\n",
    "    for one_number in range(maxnum):\n",
    "        yield one_number ** 2\n",
    "        \n",
    "g1 = count_up_to(10)        \n",
    "g2 = fib(8)\n",
    "g3 = squares(11)\n",
    "\n",
    "all_generators = [g1, g2, g3]\n",
    "\n",
    "while all_generators:\n",
    "    for one_generator in all_generators:\n",
    "        try:\n",
    "            value = next(one_generator)\n",
    "            print(f'{one_generator.__name__}: {value}')\n",
    "        except StopIteration:\n",
    "            all_generators.remove(one_generator)"
   ]
  },
  {
   "cell_type": "markdown",
   "metadata": {},
   "source": [
    "# What did we just se"
   ]
  }
 ],
 "metadata": {
  "kernelspec": {
   "display_name": "Python 3 (ipykernel)",
   "language": "python",
   "name": "python3"
  },
  "language_info": {
   "codemirror_mode": {
    "name": "ipython",
    "version": 3
   },
   "file_extension": ".py",
   "mimetype": "text/x-python",
   "name": "python",
   "nbconvert_exporter": "python",
   "pygments_lexer": "ipython3",
   "version": "3.10.0"
  }
 },
 "nbformat": 4,
 "nbformat_minor": 4
}
