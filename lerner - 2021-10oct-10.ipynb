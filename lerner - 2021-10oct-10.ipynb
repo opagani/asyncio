{
 "cells": [
  {
   "cell_type": "markdown",
   "metadata": {},
   "source": [
    "# Agenda -- asyncio\n",
    "\n",
    "1. `asyncio` basics -- what is it?\n",
    "2. Basic use of `asyncio`\n",
    "3. Scheduling and waiting\n",
    "4. Deeper with the event loop\n",
    "5. What if there's no coroutine?  What then?\n",
    "6. Example: HTTP client\n",
    "7. Example: Chatbot\n",
    "8. `asyncio` vs. threads"
   ]
  },
  {
   "cell_type": "markdown",
   "metadata": {},
   "source": [
    "# Why do we need asyncio?"
   ]
  },
  {
   "cell_type": "code",
   "execution_count": null,
   "metadata": {},
   "outputs": [],
   "source": []
  }
 ],
 "metadata": {
  "kernelspec": {
   "display_name": "Python 3 (ipykernel)",
   "language": "python",
   "name": "python3"
  },
  "language_info": {
   "codemirror_mode": {
    "name": "ipython",
    "version": 3
   },
   "file_extension": ".py",
   "mimetype": "text/x-python",
   "name": "python",
   "nbconvert_exporter": "python",
   "pygments_lexer": "ipython3",
   "version": "3.10.0"
  }
 },
 "nbformat": 4,
 "nbformat_minor": 4
}
