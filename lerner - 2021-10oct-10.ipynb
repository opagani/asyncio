{
 "cells": [
  {
   "cell_type": "markdown",
   "metadata": {},
   "source": [
    "# Agenda -- asyncio\n",
    "\n",
    "1. `asyncio` basics -- what is it?\n",
    "2. Basic use of `asyncio`\n",
    "3. Scheduling and waiting\n",
    "4. Deeper with the event loop\n",
    "5. What if there's no coroutine?  What then?\n",
    "6. Example: HTTP client\n",
    "7. Example: Chatbot\n",
    "8. `asyncio` vs. threads"
   ]
  },
  {
   "cell_type": "markdown",
   "metadata": {},
   "source": [
    "# Why do we need asyncio?"
   ]
  },
  {
   "cell_type": "markdown",
   "metadata": {},
   "source": [
    "# Reactor pattern\n",
    "\n",
    "The problem with current concurrency is:\n",
    "- Threads are lightweight, but hard to work with... and even lightweight threads can overburden a server at a certain point.\n",
    "- Processes are easier to work with, and you can even have a lot of them on a server, but they are very heavyweight, and can bring your server down.\n",
    "\n",
    "The reactor pattern says:\n",
    "- Have one process\n",
    "- Have one thread\n",
    "\n",
    "The idea is: You have a list of functions, and you loop over that list again and again and again. You give each function the chance to execute for a little bit of time.  This way, you can handle a ton of incoming network connections, because the only overhead is additional functions."
   ]
  },
  {
   "cell_type": "code",
   "execution_count": null,
   "metadata": {},
   "outputs": [],
   "source": []
  }
 ],
 "metadata": {
  "kernelspec": {
   "display_name": "Python 3 (ipykernel)",
   "language": "python",
   "name": "python3"
  },
  "language_info": {
   "codemirror_mode": {
    "name": "ipython",
    "version": 3
   },
   "file_extension": ".py",
   "mimetype": "text/x-python",
   "name": "python",
   "nbconvert_exporter": "python",
   "pygments_lexer": "ipython3",
   "version": "3.10.0"
  }
 },
 "nbformat": 4,
 "nbformat_minor": 4
}
